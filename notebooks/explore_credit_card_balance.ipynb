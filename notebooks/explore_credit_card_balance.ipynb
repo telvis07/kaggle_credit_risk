{
 "cells": [
  {
   "cell_type": "markdown",
   "metadata": {},
   "source": [
    "### Explore Credit Card Balance Dataset\n",
    "https://www.kaggle.com/c/home-credit-default-risk\n",
    "\n",
    "Ad-hoc exploration of `credit_card_balance.csv` dataset to find numeric and categorical variables"
   ]
  },
  {
   "cell_type": "code",
   "execution_count": 1,
   "metadata": {},
   "outputs": [],
   "source": [
    "%matplotlib inline\n",
    "%load_ext autoreload\n",
    "%autoreload 2"
   ]
  },
  {
   "cell_type": "code",
   "execution_count": 2,
   "metadata": {},
   "outputs": [],
   "source": [
    "import pandas as pd\n",
    "import numpy as np\n",
    "import os\n",
    "import shutil\n",
    "\n",
    "from sklearn.model_selection import train_test_split\n",
    "from sklearn.preprocessing import StandardScaler\n",
    "\n",
    "from preprocess import (do_data_cleaning, generate_encoders, add_onehot_col, add_label_col, fix_null_values)\n",
    "from preprocess_bureau import (add_numeric_stats_cols, )"
   ]
  },
  {
   "cell_type": "code",
   "execution_count": 3,
   "metadata": {},
   "outputs": [],
   "source": [
    "from IPython.display import display"
   ]
  },
  {
   "cell_type": "code",
   "execution_count": 4,
   "metadata": {},
   "outputs": [
    {
     "name": "stdout",
     "output_type": "stream",
     "text": [
      "shape (3840312, 23)\n",
      "columns Index(['SK_ID_PREV', 'SK_ID_CURR', 'MONTHS_BALANCE', 'AMT_BALANCE',\n",
      "       'AMT_CREDIT_LIMIT_ACTUAL', 'AMT_DRAWINGS_ATM_CURRENT',\n",
      "       'AMT_DRAWINGS_CURRENT', 'AMT_DRAWINGS_OTHER_CURRENT',\n",
      "       'AMT_DRAWINGS_POS_CURRENT', 'AMT_INST_MIN_REGULARITY',\n",
      "       'AMT_PAYMENT_CURRENT', 'AMT_PAYMENT_TOTAL_CURRENT',\n",
      "       'AMT_RECEIVABLE_PRINCIPAL', 'AMT_RECIVABLE', 'AMT_TOTAL_RECEIVABLE',\n",
      "       'CNT_DRAWINGS_ATM_CURRENT', 'CNT_DRAWINGS_CURRENT',\n",
      "       'CNT_DRAWINGS_OTHER_CURRENT', 'CNT_DRAWINGS_POS_CURRENT',\n",
      "       'CNT_INSTALMENT_MATURE_CUM', 'NAME_CONTRACT_STATUS', 'SK_DPD',\n",
      "       'SK_DPD_DEF'],\n",
      "      dtype='object')\n"
     ]
    }
   ],
   "source": [
    "df = pd.read_csv('./data/credit_card_balance.csv')\n",
    "print(\"shape\",df.shape)\n",
    "print(\"columns\",df.columns)"
   ]
  },
  {
   "cell_type": "code",
   "execution_count": 9,
   "metadata": {},
   "outputs": [
    {
     "data": {
      "text/plain": [
       "SK_ID_PREV                      int64\n",
       "SK_ID_CURR                      int64\n",
       "MONTHS_BALANCE                  int64\n",
       "AMT_BALANCE                   float64\n",
       "AMT_CREDIT_LIMIT_ACTUAL         int64\n",
       "AMT_DRAWINGS_ATM_CURRENT      float64\n",
       "AMT_DRAWINGS_CURRENT          float64\n",
       "AMT_DRAWINGS_OTHER_CURRENT    float64\n",
       "AMT_DRAWINGS_POS_CURRENT      float64\n",
       "AMT_INST_MIN_REGULARITY       float64\n",
       "AMT_PAYMENT_CURRENT           float64\n",
       "AMT_PAYMENT_TOTAL_CURRENT     float64\n",
       "AMT_RECEIVABLE_PRINCIPAL      float64\n",
       "AMT_RECIVABLE                 float64\n",
       "AMT_TOTAL_RECEIVABLE          float64\n",
       "CNT_DRAWINGS_ATM_CURRENT      float64\n",
       "CNT_DRAWINGS_CURRENT            int64\n",
       "CNT_DRAWINGS_OTHER_CURRENT    float64\n",
       "CNT_DRAWINGS_POS_CURRENT      float64\n",
       "CNT_INSTALMENT_MATURE_CUM     float64\n",
       "NAME_CONTRACT_STATUS           object\n",
       "SK_DPD                          int64\n",
       "SK_DPD_DEF                      int64\n",
       "dtype: object"
      ]
     },
     "execution_count": 9,
     "metadata": {},
     "output_type": "execute_result"
    }
   ],
   "source": [
    "df.dtypes"
   ]
  },
  {
   "cell_type": "code",
   "execution_count": 8,
   "metadata": {},
   "outputs": [
    {
     "data": {
      "text/plain": [
       "NAME_CONTRACT_STATUS    7\n",
       "dtype: int64"
      ]
     },
     "execution_count": 8,
     "metadata": {},
     "output_type": "execute_result"
    }
   ],
   "source": [
    "df.select_dtypes('object').apply(pd.Series.nunique, axis=0)"
   ]
  },
  {
   "cell_type": "code",
   "execution_count": 17,
   "metadata": {},
   "outputs": [
    {
     "data": {
      "text/plain": [
       "dict_keys(['SK_ID_PREV', 'SK_ID_CURR', 'MONTHS_BALANCE', 'AMT_BALANCE', 'AMT_CREDIT_LIMIT_ACTUAL', 'AMT_DRAWINGS_ATM_CURRENT', 'AMT_DRAWINGS_CURRENT', 'AMT_DRAWINGS_OTHER_CURRENT', 'AMT_DRAWINGS_POS_CURRENT', 'AMT_INST_MIN_REGULARITY', 'AMT_PAYMENT_CURRENT', 'AMT_PAYMENT_TOTAL_CURRENT', 'AMT_RECEIVABLE_PRINCIPAL', 'AMT_RECIVABLE', 'AMT_TOTAL_RECEIVABLE', 'CNT_DRAWINGS_ATM_CURRENT', 'CNT_DRAWINGS_CURRENT', 'CNT_DRAWINGS_OTHER_CURRENT', 'CNT_DRAWINGS_POS_CURRENT', 'CNT_INSTALMENT_MATURE_CUM', 'SK_DPD', 'SK_DPD_DEF'])"
      ]
     },
     "execution_count": 17,
     "metadata": {},
     "output_type": "execute_result"
    }
   ],
   "source": [
    "# df.select_dtypes(['float64', 'int64']).agg([\"min\", \"max\", \"mean\", \"median\", \"nunique\"])\n",
    "df.select_dtypes(['float64', 'int64']).apply(pd.Series.nunique, axis=0).to_dict().keys()"
   ]
  },
  {
   "cell_type": "code",
   "execution_count": 13,
   "metadata": {},
   "outputs": [
    {
     "data": {
      "text/plain": [
       "array([ 0.,  1., nan,  3.,  2.,  4.,  6.,  5.,  7.,  8., 10., 12.])"
      ]
     },
     "execution_count": 13,
     "metadata": {},
     "output_type": "execute_result"
    }
   ],
   "source": [
    "cols = \n",
    "\n",
    "\n",
    "df['CNT_DRAWINGS_OTHER_CURRENT'].unique()"
   ]
  },
  {
   "cell_type": "code",
   "execution_count": 19,
   "metadata": {},
   "outputs": [
    {
     "data": {
      "text/html": [
       "<div>\n",
       "<style scoped>\n",
       "    .dataframe tbody tr th:only-of-type {\n",
       "        vertical-align: middle;\n",
       "    }\n",
       "\n",
       "    .dataframe tbody tr th {\n",
       "        vertical-align: top;\n",
       "    }\n",
       "\n",
       "    .dataframe thead th {\n",
       "        text-align: right;\n",
       "    }\n",
       "</style>\n",
       "<table border=\"1\" class=\"dataframe\">\n",
       "  <thead>\n",
       "    <tr style=\"text-align: right;\">\n",
       "      <th></th>\n",
       "      <th>MONTHS_BALANCE</th>\n",
       "      <th>AMT_BALANCE</th>\n",
       "      <th>AMT_CREDIT_LIMIT_ACTUAL</th>\n",
       "      <th>AMT_DRAWINGS_ATM_CURRENT</th>\n",
       "      <th>AMT_DRAWINGS_CURRENT</th>\n",
       "      <th>AMT_DRAWINGS_OTHER_CURRENT</th>\n",
       "      <th>AMT_DRAWINGS_POS_CURRENT</th>\n",
       "      <th>AMT_INST_MIN_REGULARITY</th>\n",
       "      <th>AMT_PAYMENT_CURRENT</th>\n",
       "      <th>AMT_PAYMENT_TOTAL_CURRENT</th>\n",
       "      <th>AMT_RECEIVABLE_PRINCIPAL</th>\n",
       "      <th>AMT_RECIVABLE</th>\n",
       "      <th>AMT_TOTAL_RECEIVABLE</th>\n",
       "      <th>CNT_DRAWINGS_ATM_CURRENT</th>\n",
       "      <th>CNT_DRAWINGS_CURRENT</th>\n",
       "      <th>CNT_DRAWINGS_OTHER_CURRENT</th>\n",
       "      <th>CNT_DRAWINGS_POS_CURRENT</th>\n",
       "      <th>CNT_INSTALMENT_MATURE_CUM</th>\n",
       "    </tr>\n",
       "  </thead>\n",
       "  <tbody>\n",
       "    <tr>\n",
       "      <th>min</th>\n",
       "      <td>-96.000000</td>\n",
       "      <td>-4.202502e+05</td>\n",
       "      <td>0.000000e+00</td>\n",
       "      <td>-6.827310e+03</td>\n",
       "      <td>-6.211620e+03</td>\n",
       "      <td>0.000000e+00</td>\n",
       "      <td>0.000000e+00</td>\n",
       "      <td>0.000000</td>\n",
       "      <td>0.000000e+00</td>\n",
       "      <td>0.000000e+00</td>\n",
       "      <td>-4.233058e+05</td>\n",
       "      <td>-4.202502e+05</td>\n",
       "      <td>-4.202502e+05</td>\n",
       "      <td>0.000000</td>\n",
       "      <td>0.000000</td>\n",
       "      <td>0.000000</td>\n",
       "      <td>0.000000</td>\n",
       "      <td>0.000000</td>\n",
       "    </tr>\n",
       "    <tr>\n",
       "      <th>max</th>\n",
       "      <td>-1.000000</td>\n",
       "      <td>1.505902e+06</td>\n",
       "      <td>1.350000e+06</td>\n",
       "      <td>2.115000e+06</td>\n",
       "      <td>2.287098e+06</td>\n",
       "      <td>1.529847e+06</td>\n",
       "      <td>2.239274e+06</td>\n",
       "      <td>202882.005000</td>\n",
       "      <td>4.289207e+06</td>\n",
       "      <td>4.278316e+06</td>\n",
       "      <td>1.472317e+06</td>\n",
       "      <td>1.493338e+06</td>\n",
       "      <td>1.493338e+06</td>\n",
       "      <td>51.000000</td>\n",
       "      <td>165.000000</td>\n",
       "      <td>12.000000</td>\n",
       "      <td>165.000000</td>\n",
       "      <td>120.000000</td>\n",
       "    </tr>\n",
       "    <tr>\n",
       "      <th>mean</th>\n",
       "      <td>-34.521921</td>\n",
       "      <td>5.830016e+04</td>\n",
       "      <td>1.538080e+05</td>\n",
       "      <td>5.961325e+03</td>\n",
       "      <td>7.433388e+03</td>\n",
       "      <td>2.881696e+02</td>\n",
       "      <td>2.968805e+03</td>\n",
       "      <td>3540.204129</td>\n",
       "      <td>1.028054e+04</td>\n",
       "      <td>7.588857e+03</td>\n",
       "      <td>5.596588e+04</td>\n",
       "      <td>5.808881e+04</td>\n",
       "      <td>5.809829e+04</td>\n",
       "      <td>0.309449</td>\n",
       "      <td>0.703144</td>\n",
       "      <td>0.004812</td>\n",
       "      <td>0.559479</td>\n",
       "      <td>20.825084</td>\n",
       "    </tr>\n",
       "    <tr>\n",
       "      <th>median</th>\n",
       "      <td>-28.000000</td>\n",
       "      <td>0.000000e+00</td>\n",
       "      <td>1.125000e+05</td>\n",
       "      <td>0.000000e+00</td>\n",
       "      <td>0.000000e+00</td>\n",
       "      <td>0.000000e+00</td>\n",
       "      <td>0.000000e+00</td>\n",
       "      <td>0.000000</td>\n",
       "      <td>2.702700e+03</td>\n",
       "      <td>0.000000e+00</td>\n",
       "      <td>0.000000e+00</td>\n",
       "      <td>0.000000e+00</td>\n",
       "      <td>0.000000e+00</td>\n",
       "      <td>0.000000</td>\n",
       "      <td>0.000000</td>\n",
       "      <td>0.000000</td>\n",
       "      <td>0.000000</td>\n",
       "      <td>15.000000</td>\n",
       "    </tr>\n",
       "    <tr>\n",
       "      <th>nunique</th>\n",
       "      <td>96.000000</td>\n",
       "      <td>1.347904e+06</td>\n",
       "      <td>1.810000e+02</td>\n",
       "      <td>2.267000e+03</td>\n",
       "      <td>1.870050e+05</td>\n",
       "      <td>1.832000e+03</td>\n",
       "      <td>1.687480e+05</td>\n",
       "      <td>312266.000000</td>\n",
       "      <td>1.632090e+05</td>\n",
       "      <td>1.829570e+05</td>\n",
       "      <td>1.195839e+06</td>\n",
       "      <td>1.338878e+06</td>\n",
       "      <td>1.339008e+06</td>\n",
       "      <td>44.000000</td>\n",
       "      <td>129.000000</td>\n",
       "      <td>11.000000</td>\n",
       "      <td>133.000000</td>\n",
       "      <td>121.000000</td>\n",
       "    </tr>\n",
       "  </tbody>\n",
       "</table>\n",
       "</div>"
      ],
      "text/plain": [
       "         MONTHS_BALANCE   AMT_BALANCE  AMT_CREDIT_LIMIT_ACTUAL  \\\n",
       "min          -96.000000 -4.202502e+05             0.000000e+00   \n",
       "max           -1.000000  1.505902e+06             1.350000e+06   \n",
       "mean         -34.521921  5.830016e+04             1.538080e+05   \n",
       "median       -28.000000  0.000000e+00             1.125000e+05   \n",
       "nunique       96.000000  1.347904e+06             1.810000e+02   \n",
       "\n",
       "         AMT_DRAWINGS_ATM_CURRENT  AMT_DRAWINGS_CURRENT  \\\n",
       "min                 -6.827310e+03         -6.211620e+03   \n",
       "max                  2.115000e+06          2.287098e+06   \n",
       "mean                 5.961325e+03          7.433388e+03   \n",
       "median               0.000000e+00          0.000000e+00   \n",
       "nunique              2.267000e+03          1.870050e+05   \n",
       "\n",
       "         AMT_DRAWINGS_OTHER_CURRENT  AMT_DRAWINGS_POS_CURRENT  \\\n",
       "min                    0.000000e+00              0.000000e+00   \n",
       "max                    1.529847e+06              2.239274e+06   \n",
       "mean                   2.881696e+02              2.968805e+03   \n",
       "median                 0.000000e+00              0.000000e+00   \n",
       "nunique                1.832000e+03              1.687480e+05   \n",
       "\n",
       "         AMT_INST_MIN_REGULARITY  AMT_PAYMENT_CURRENT  \\\n",
       "min                     0.000000         0.000000e+00   \n",
       "max                202882.005000         4.289207e+06   \n",
       "mean                 3540.204129         1.028054e+04   \n",
       "median                  0.000000         2.702700e+03   \n",
       "nunique            312266.000000         1.632090e+05   \n",
       "\n",
       "         AMT_PAYMENT_TOTAL_CURRENT  AMT_RECEIVABLE_PRINCIPAL  AMT_RECIVABLE  \\\n",
       "min                   0.000000e+00             -4.233058e+05  -4.202502e+05   \n",
       "max                   4.278316e+06              1.472317e+06   1.493338e+06   \n",
       "mean                  7.588857e+03              5.596588e+04   5.808881e+04   \n",
       "median                0.000000e+00              0.000000e+00   0.000000e+00   \n",
       "nunique               1.829570e+05              1.195839e+06   1.338878e+06   \n",
       "\n",
       "         AMT_TOTAL_RECEIVABLE  CNT_DRAWINGS_ATM_CURRENT  CNT_DRAWINGS_CURRENT  \\\n",
       "min             -4.202502e+05                  0.000000              0.000000   \n",
       "max              1.493338e+06                 51.000000            165.000000   \n",
       "mean             5.809829e+04                  0.309449              0.703144   \n",
       "median           0.000000e+00                  0.000000              0.000000   \n",
       "nunique          1.339008e+06                 44.000000            129.000000   \n",
       "\n",
       "         CNT_DRAWINGS_OTHER_CURRENT  CNT_DRAWINGS_POS_CURRENT  \\\n",
       "min                        0.000000                  0.000000   \n",
       "max                       12.000000                165.000000   \n",
       "mean                       0.004812                  0.559479   \n",
       "median                     0.000000                  0.000000   \n",
       "nunique                   11.000000                133.000000   \n",
       "\n",
       "         CNT_INSTALMENT_MATURE_CUM  \n",
       "min                       0.000000  \n",
       "max                     120.000000  \n",
       "mean                     20.825084  \n",
       "median                   15.000000  \n",
       "nunique                 121.000000  "
      ]
     },
     "execution_count": 19,
     "metadata": {},
     "output_type": "execute_result"
    }
   ],
   "source": [
    "numerical_cols =['MONTHS_BALANCE', 'AMT_BALANCE', \n",
    "        'AMT_CREDIT_LIMIT_ACTUAL', 'AMT_DRAWINGS_ATM_CURRENT', \n",
    "        'AMT_DRAWINGS_CURRENT', 'AMT_DRAWINGS_OTHER_CURRENT', \n",
    "        'AMT_DRAWINGS_POS_CURRENT', 'AMT_INST_MIN_REGULARITY', \n",
    "        'AMT_PAYMENT_CURRENT', 'AMT_PAYMENT_TOTAL_CURRENT',\n",
    "        'AMT_RECEIVABLE_PRINCIPAL', 'AMT_RECIVABLE', \n",
    "        'AMT_TOTAL_RECEIVABLE', 'CNT_DRAWINGS_ATM_CURRENT', \n",
    "        'CNT_DRAWINGS_CURRENT', 'CNT_DRAWINGS_OTHER_CURRENT', \n",
    "        'CNT_DRAWINGS_POS_CURRENT', 'CNT_INSTALMENT_MATURE_CUM']\n",
    "\n",
    "FEAT_CODE = \"CCB\"\n",
    "rename_cols = {}\n",
    "for colname in numerical_cols:\n",
    "    rename_cols[colname] = \"{}_{}\".format(FEAT_CODE, colname)\n",
    "\n",
    "df[numerical_cols].agg([\"min\", \"max\", \"mean\", \"median\", \"nunique\"])"
   ]
  },
  {
   "cell_type": "code",
   "execution_count": null,
   "metadata": {},
   "outputs": [],
   "source": []
  }
 ],
 "metadata": {
  "kernelspec": {
   "display_name": "Python 3",
   "language": "python",
   "name": "python3"
  },
  "language_info": {
   "codemirror_mode": {
    "name": "ipython",
    "version": 3
   },
   "file_extension": ".py",
   "mimetype": "text/x-python",
   "name": "python",
   "nbconvert_exporter": "python",
   "pygments_lexer": "ipython3",
   "version": "3.6.2"
  }
 },
 "nbformat": 4,
 "nbformat_minor": 2
}
