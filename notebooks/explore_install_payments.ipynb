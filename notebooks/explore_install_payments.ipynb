{
 "cells": [
  {
   "cell_type": "markdown",
   "metadata": {},
   "source": [
    "### Explore Install Payments Dataset\n",
    "https://www.kaggle.com/c/home-credit-default-risk\n",
    "\n",
    "Ad-hoc exploration of `installments_payments.csv` dataset to find numeric and categorical variables"
   ]
  },
  {
   "cell_type": "code",
   "execution_count": 1,
   "metadata": {},
   "outputs": [],
   "source": [
    "%matplotlib inline\n",
    "%load_ext autoreload\n",
    "%autoreload 2"
   ]
  },
  {
   "cell_type": "code",
   "execution_count": 2,
   "metadata": {},
   "outputs": [],
   "source": [
    "import pandas as pd\n",
    "import numpy as np\n",
    "import os\n",
    "import shutil\n",
    "\n",
    "from sklearn.model_selection import train_test_split\n",
    "from sklearn.preprocessing import StandardScaler\n",
    "\n",
    "from preprocess import (do_data_cleaning, generate_encoders, add_onehot_col, add_label_col, fix_null_values)\n",
    "from preprocess_bureau import (add_numeric_stats_cols, )"
   ]
  },
  {
   "cell_type": "code",
   "execution_count": 3,
   "metadata": {},
   "outputs": [],
   "source": [
    "from IPython.display import display"
   ]
  },
  {
   "cell_type": "code",
   "execution_count": 4,
   "metadata": {},
   "outputs": [],
   "source": [
    "FEAT_CODE = \"INSTPAY\""
   ]
  },
  {
   "cell_type": "code",
   "execution_count": 5,
   "metadata": {},
   "outputs": [
    {
     "name": "stdout",
     "output_type": "stream",
     "text": [
      "shape (13605401, 8)\n",
      "columns Index(['SK_ID_PREV', 'SK_ID_CURR', 'NUM_INSTALMENT_VERSION',\n",
      "       'NUM_INSTALMENT_NUMBER', 'DAYS_INSTALMENT', 'DAYS_ENTRY_PAYMENT',\n",
      "       'AMT_INSTALMENT', 'AMT_PAYMENT'],\n",
      "      dtype='object')\n"
     ]
    }
   ],
   "source": [
    "df = pd.read_csv('./data/installments_payments.csv')\n",
    "print(\"shape\",df.shape)\n",
    "print(\"columns\",df.columns)"
   ]
  },
  {
   "cell_type": "code",
   "execution_count": 6,
   "metadata": {},
   "outputs": [
    {
     "data": {
      "text/plain": [
       "SK_ID_PREV                  int64\n",
       "SK_ID_CURR                  int64\n",
       "NUM_INSTALMENT_VERSION    float64\n",
       "NUM_INSTALMENT_NUMBER       int64\n",
       "DAYS_INSTALMENT           float64\n",
       "DAYS_ENTRY_PAYMENT        float64\n",
       "AMT_INSTALMENT            float64\n",
       "AMT_PAYMENT               float64\n",
       "dtype: object"
      ]
     },
     "execution_count": 6,
     "metadata": {},
     "output_type": "execute_result"
    }
   ],
   "source": [
    "df.dtypes"
   ]
  },
  {
   "cell_type": "code",
   "execution_count": 7,
   "metadata": {},
   "outputs": [
    {
     "data": {
      "text/plain": [
       "{}"
      ]
     },
     "execution_count": 7,
     "metadata": {},
     "output_type": "execute_result"
    }
   ],
   "source": [
    "df.select_dtypes('object').apply(pd.Series.nunique, axis=0).to_dict()"
   ]
  },
  {
   "cell_type": "code",
   "execution_count": null,
   "metadata": {},
   "outputs": [],
   "source": [
    "# label_cols = list(df.select_dtypes('object').apply(pd.Series.nunique, axis=0).to_dict().keys())\n",
    "# label_cols"
   ]
  },
  {
   "cell_type": "code",
   "execution_count": null,
   "metadata": {},
   "outputs": [],
   "source": [
    "# label_cols = []\n",
    "\n",
    "# df[label_cols].apply(pd.Series.nunique, axis=0)"
   ]
  },
  {
   "cell_type": "code",
   "execution_count": 8,
   "metadata": {},
   "outputs": [
    {
     "name": "stdout",
     "output_type": "stream",
     "text": [
      "numerical_cols ['SK_ID_PREV', 'SK_ID_CURR', 'NUM_INSTALMENT_VERSION', 'NUM_INSTALMENT_NUMBER', 'DAYS_INSTALMENT', 'DAYS_ENTRY_PAYMENT', 'AMT_INSTALMENT', 'AMT_PAYMENT']\n"
     ]
    }
   ],
   "source": [
    "# df.select_dtypes(['float64', 'int64']).agg([\"min\", \"max\", \"mean\", \"median\", \"nunique\"])\n",
    "numerical_cols = list(df.select_dtypes(['float64', 'int64']).apply(pd.Series.nunique, axis=0).to_dict().keys())\n",
    "print (\"numerical_cols\", numerical_cols)"
   ]
  },
  {
   "cell_type": "code",
   "execution_count": 11,
   "metadata": {},
   "outputs": [],
   "source": [
    "# df['RATE_DOWN_PAYMENT'].unique()"
   ]
  },
  {
   "cell_type": "code",
   "execution_count": 14,
   "metadata": {},
   "outputs": [
    {
     "data": {
      "text/html": [
       "<div>\n",
       "<style scoped>\n",
       "    .dataframe tbody tr th:only-of-type {\n",
       "        vertical-align: middle;\n",
       "    }\n",
       "\n",
       "    .dataframe tbody tr th {\n",
       "        vertical-align: top;\n",
       "    }\n",
       "\n",
       "    .dataframe thead th {\n",
       "        text-align: right;\n",
       "    }\n",
       "</style>\n",
       "<table border=\"1\" class=\"dataframe\">\n",
       "  <thead>\n",
       "    <tr style=\"text-align: right;\">\n",
       "      <th></th>\n",
       "      <th>NUM_INSTALMENT_VERSION</th>\n",
       "      <th>NUM_INSTALMENT_NUMBER</th>\n",
       "      <th>DAYS_INSTALMENT</th>\n",
       "      <th>DAYS_ENTRY_PAYMENT</th>\n",
       "      <th>AMT_INSTALMENT</th>\n",
       "      <th>AMT_PAYMENT</th>\n",
       "    </tr>\n",
       "  </thead>\n",
       "  <tbody>\n",
       "    <tr>\n",
       "      <th>min</th>\n",
       "      <td>0.000000</td>\n",
       "      <td>1.000000</td>\n",
       "      <td>-2922.000000</td>\n",
       "      <td>-4921.000000</td>\n",
       "      <td>0.000000e+00</td>\n",
       "      <td>0.000000e+00</td>\n",
       "    </tr>\n",
       "    <tr>\n",
       "      <th>max</th>\n",
       "      <td>178.000000</td>\n",
       "      <td>277.000000</td>\n",
       "      <td>-1.000000</td>\n",
       "      <td>-1.000000</td>\n",
       "      <td>3.771488e+06</td>\n",
       "      <td>3.771488e+06</td>\n",
       "    </tr>\n",
       "    <tr>\n",
       "      <th>mean</th>\n",
       "      <td>0.856637</td>\n",
       "      <td>18.870896</td>\n",
       "      <td>-1042.269992</td>\n",
       "      <td>-1051.113684</td>\n",
       "      <td>1.705091e+04</td>\n",
       "      <td>1.723822e+04</td>\n",
       "    </tr>\n",
       "    <tr>\n",
       "      <th>median</th>\n",
       "      <td>1.000000</td>\n",
       "      <td>8.000000</td>\n",
       "      <td>-818.000000</td>\n",
       "      <td>-827.000000</td>\n",
       "      <td>8.884080e+03</td>\n",
       "      <td>8.125515e+03</td>\n",
       "    </tr>\n",
       "    <tr>\n",
       "      <th>nunique</th>\n",
       "      <td>65.000000</td>\n",
       "      <td>277.000000</td>\n",
       "      <td>2922.000000</td>\n",
       "      <td>3039.000000</td>\n",
       "      <td>9.025390e+05</td>\n",
       "      <td>9.442350e+05</td>\n",
       "    </tr>\n",
       "    <tr>\n",
       "      <th>std</th>\n",
       "      <td>1.035216</td>\n",
       "      <td>26.664067</td>\n",
       "      <td>800.946284</td>\n",
       "      <td>800.585883</td>\n",
       "      <td>5.057025e+04</td>\n",
       "      <td>5.473578e+04</td>\n",
       "    </tr>\n",
       "    <tr>\n",
       "      <th>skew</th>\n",
       "      <td>9.593395</td>\n",
       "      <td>2.497597</td>\n",
       "      <td>-0.628704</td>\n",
       "      <td>-0.626889</td>\n",
       "      <td>1.623591e+01</td>\n",
       "      <td>1.495193e+01</td>\n",
       "    </tr>\n",
       "    <tr>\n",
       "      <th>kurtosis</th>\n",
       "      <td>259.607101</td>\n",
       "      <td>6.705137</td>\n",
       "      <td>-0.798737</td>\n",
       "      <td>-0.801756</td>\n",
       "      <td>3.888394e+02</td>\n",
       "      <td>3.245959e+02</td>\n",
       "    </tr>\n",
       "  </tbody>\n",
       "</table>\n",
       "</div>"
      ],
      "text/plain": [
       "          NUM_INSTALMENT_VERSION  NUM_INSTALMENT_NUMBER  DAYS_INSTALMENT  \\\n",
       "min                     0.000000               1.000000     -2922.000000   \n",
       "max                   178.000000             277.000000        -1.000000   \n",
       "mean                    0.856637              18.870896     -1042.269992   \n",
       "median                  1.000000               8.000000      -818.000000   \n",
       "nunique                65.000000             277.000000      2922.000000   \n",
       "std                     1.035216              26.664067       800.946284   \n",
       "skew                    9.593395               2.497597        -0.628704   \n",
       "kurtosis              259.607101               6.705137        -0.798737   \n",
       "\n",
       "          DAYS_ENTRY_PAYMENT  AMT_INSTALMENT   AMT_PAYMENT  \n",
       "min             -4921.000000    0.000000e+00  0.000000e+00  \n",
       "max                -1.000000    3.771488e+06  3.771488e+06  \n",
       "mean            -1051.113684    1.705091e+04  1.723822e+04  \n",
       "median           -827.000000    8.884080e+03  8.125515e+03  \n",
       "nunique          3039.000000    9.025390e+05  9.442350e+05  \n",
       "std               800.585883    5.057025e+04  5.473578e+04  \n",
       "skew               -0.626889    1.623591e+01  1.495193e+01  \n",
       "kurtosis           -0.801756    3.888394e+02  3.245959e+02  "
      ]
     },
     "execution_count": 14,
     "metadata": {},
     "output_type": "execute_result"
    }
   ],
   "source": [
    "numerical_cols =['NUM_INSTALMENT_VERSION', 'NUM_INSTALMENT_NUMBER', \n",
    "                 'DAYS_INSTALMENT', 'DAYS_ENTRY_PAYMENT', \n",
    "                 'AMT_INSTALMENT', 'AMT_PAYMENT']\n",
    "\n",
    "rename_cols = {}\n",
    "for colname in numerical_cols:\n",
    "    rename_cols[colname] = \"{}_{}\".format(FEAT_CODE, colname)\n",
    "\n",
    "df[numerical_cols].agg([\"min\", \"max\", \"mean\", \"median\", \"nunique\", \"std\", \"skew\", \"kurtosis\"])"
   ]
  },
  {
   "cell_type": "code",
   "execution_count": 12,
   "metadata": {},
   "outputs": [],
   "source": [
    "# df[\"RATE_INTEREST_PRIVILEGED\"].unique()"
   ]
  },
  {
   "cell_type": "code",
   "execution_count": null,
   "metadata": {},
   "outputs": [],
   "source": []
  }
 ],
 "metadata": {
  "kernelspec": {
   "display_name": "Python 3",
   "language": "python",
   "name": "python3"
  },
  "language_info": {
   "codemirror_mode": {
    "name": "ipython",
    "version": 3
   },
   "file_extension": ".py",
   "mimetype": "text/x-python",
   "name": "python",
   "nbconvert_exporter": "python",
   "pygments_lexer": "ipython3",
   "version": "3.6.2"
  }
 },
 "nbformat": 4,
 "nbformat_minor": 2
}
