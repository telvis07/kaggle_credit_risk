{
 "cells": [
  {
   "cell_type": "markdown",
   "metadata": {},
   "source": [
    "### Calc Submission Rank\n",
    "https://www.kaggle.com/c/home-credit-default-risk\n",
    "\n",
    "Show what my submission rank would have been for each model."
   ]
  },
  {
   "cell_type": "code",
   "execution_count": 1,
   "metadata": {},
   "outputs": [],
   "source": [
    "import pandas as pd\n",
    "import numpy as np"
   ]
  },
  {
   "cell_type": "code",
   "execution_count": 3,
   "metadata": {},
   "outputs": [],
   "source": []
  },
  {
   "cell_type": "code",
   "execution_count": 4,
   "metadata": {},
   "outputs": [
    {
     "data": {
      "text/plain": [
       "Index(['TeamId', 'TeamName', 'SubmissionDate', 'Score'], dtype='object')"
      ]
     },
     "execution_count": 4,
     "metadata": {},
     "output_type": "execute_result"
    }
   ],
   "source": [
    "leaderboard_df.columns"
   ]
  },
  {
   "cell_type": "code",
   "execution_count": 24,
   "metadata": {},
   "outputs": [],
   "source": []
  },
  {
   "cell_type": "code",
   "execution_count": 44,
   "metadata": {},
   "outputs": [
    {
     "name": "stdout",
     "output_type": "stream",
     "text": [
      "top [0.25259 0.25365 0.25473 0.2549  0.25511 0.2553  0.25559 0.25576 0.25591\n",
      " 0.25707]\n",
      "bottom [0.81471 0.81502 0.81515 0.81562 0.81566 0.81584 0.81629 0.81652 0.81706\n",
      " 0.81724]\n"
     ]
    }
   ],
   "source": [
    "leaderboard_df = pd.read_csv(\"data/home-credit-default-risk-publicleaderboard.csv\")\n",
    "leaderboard_df = leaderboard_df.sort_values('Score', ascending=True)\n",
    "scores = leaderboard_df['Score'].values\n",
    "# scores = np.sort(scores)\n",
    "print(\"top\",scores[:10]) \n",
    "print(\"bottom\", scores[-10:])"
   ]
  },
  {
   "cell_type": "code",
   "execution_count": 7,
   "metadata": {},
   "outputs": [],
   "source": [
    "my_submissions = {\n",
    "    'dnn__weighted_cross_entropy_with_logits_exp/main_plus_all/submissions.csv': 0.50995,\n",
    "    \"xgboost_kaggle_higgs_exp/main_plus_all/submissions.csv\": 0.68446,\n",
    "    \"xgboost_exp.max_depth_12/main_plus_all/submissions.csv\": 0.50495,\n",
    "    \"xgboost_exp/main_plus_all_numeric_files/submissions.csv\": 0.50044,\n",
    "    \"xgboost_exp/main_plus_all/submissions.csv\": 0.50105,\n",
    "    \"random_forest_exp/main_plus_all_numeric_files/submissions.csv\": 0.62165,\n",
    "    \"random_forest_exp/main_plus_all features\": 0.62130,\n",
    "    \"dnn__default_exp/main_plus_all_numeric_files/submissions.csv\": 0.50072,\n",
    "    \"dnn__default_exp/main_plus_all__softmax/submissions.csv\": 0.25845,\n",
    "    \"dnn__default_exp/main_plus_all__softmax/submissions.csv\": 0.50255\n",
    "}"
   ]
  },
  {
   "cell_type": "code",
   "execution_count": 69,
   "metadata": {},
   "outputs": [
    {
     "name": "stdout",
     "output_type": "stream",
     "text": [
      "top 10 submission scores [0.81724 0.81706 0.81652 0.81629 0.81584 0.81566 0.81562 0.81515 0.81502\n",
      " 0.81471]\n",
      "bottom 10 submission scores [0.25707 0.25591 0.25576 0.25559 0.2553  0.25511 0.2549  0.25473 0.25365\n",
      " 0.25259]\n",
      "\n",
      "************\n",
      "dnn__weighted_cross_entropy_with_logits_exp/main_plus_all/submissions.csv 0.50995\n",
      "Ranked 39504 of 40849 submissions\n",
      "My submission was worse than 96.71% of submissions\n",
      "My submission was better than 3.29% of submissions\n",
      "AUC Percentile 0.48915956888\n",
      "\n",
      "************\n",
      "\n",
      "************\n",
      "xgboost_kaggle_higgs_exp/main_plus_all/submissions.csv 0.68446\n",
      "Ranked 36229 of 40849 submissions\n",
      "My submission was worse than 88.69% of submissions\n",
      "My submission was better than 11.31% of submissions\n",
      "AUC Percentile 0.498422350912\n",
      "\n",
      "************\n",
      "\n",
      "************\n",
      "xgboost_exp.max_depth_12/main_plus_all/submissions.csv 0.50495\n",
      "Ranked 39625 of 40849 submissions\n",
      "My submission was worse than 97.01% of submissions\n",
      "My submission was better than 2.99% of submissions\n",
      "AUC Percentile 0.48869526944\n",
      "\n",
      "************\n",
      "\n",
      "************\n",
      "xgboost_exp/main_plus_all_numeric_files/submissions.csv 0.50044\n",
      "Ranked 39942 of 40849 submissions\n",
      "My submission was worse than 97.79% of submissions\n",
      "My submission was better than 2.21% of submissions\n",
      "AUC Percentile 0.488258394624\n",
      "\n",
      "************\n",
      "\n",
      "************\n",
      "xgboost_exp/main_plus_all/submissions.csv 0.50105\n",
      "Ranked 39879 of 40849 submissions\n",
      "My submission was worse than 97.63% of submissions\n",
      "My submission was better than 2.37% of submissions\n",
      "AUC Percentile 0.48826337808\n",
      "\n",
      "************\n",
      "\n",
      "************\n",
      "random_forest_exp/main_plus_all_numeric_files/submissions.csv 0.62165\n",
      "Ranked 38175 of 40849 submissions\n",
      "My submission was worse than 93.45% of submissions\n",
      "My submission was better than 6.55% of submissions\n",
      "AUC Percentile 0.49611468904\n",
      "\n",
      "************\n",
      "\n",
      "************\n",
      "random_forest_exp/main_plus_all features 0.6213\n",
      "Ranked 38184 of 40849 submissions\n",
      "My submission was worse than 93.48% of submissions\n",
      "My submission was better than 6.52% of submissions\n",
      "AUC Percentile 0.49606179088\n",
      "\n",
      "************\n",
      "\n",
      "************\n",
      "dnn__default_exp/main_plus_all_numeric_files/submissions.csv 0.50072\n",
      "Ranked 39902 of 40849 submissions\n",
      "My submission was worse than 97.68% of submissions\n",
      "My submission was better than 2.32% of submissions\n",
      "AUC Percentile 0.488260682112\n",
      "\n",
      "************\n",
      "\n",
      "************\n",
      "dnn__default_exp/main_plus_all__softmax/submissions.csv 0.50255\n",
      "Ranked 39756 of 40849 submissions\n",
      "My submission was worse than 97.33% of submissions\n",
      "My submission was better than 2.67% of submissions\n",
      "AUC Percentile 0.48835730344\n",
      "\n",
      "************\n"
     ]
    }
   ],
   "source": [
    "total_submissions = scores.shape[0]\n",
    "print(\"top 10 submission scores\",scores[::-1][:10]) \n",
    "print(\"bottom 10 submission scores\", scores[::-1][-10:])\n",
    "\n",
    "for k, v in my_submissions.items():\n",
    "    print('\\n'+\"************\")\n",
    "    print(k,v)\n",
    "    score_rank = np.searchsorted(scores, v, side=\"right\")\n",
    "    print(\"Ranked\", total_submissions - score_rank, \"of\", total_submissions, \"submissions\")\n",
    "    #\n",
    "    print(\"My submission was worse than {:0.2f}% of submissions\".format(\n",
    "        float(np.sum(scores >= v)) / float(total_submissions)*100))\n",
    "    print(\"My submission was better than {:0.2f}% of submissions\".format(\n",
    "        float(np.sum(scores < v)) / float(total_submissions)*100))\n",
    "    print(\"AUC Percentile\", np.percentile(scores, v))\n",
    "    \n",
    "#     auc_percentile = np.percentile(scores, v)\n",
    "#     print(k, \": AUC Percentile\", auc_percentile)\n",
    "    print('\\n'+\"************\")\n",
    "\n",
    "\n",
    "    "
   ]
  },
  {
   "cell_type": "markdown",
   "metadata": {},
   "source": [
    "### Best Model Performance\n",
    "\n",
    "* xgboost_kaggle_higgs_exp/main_plus_all/submissions.csv \n",
    "* Score 0.68446 (best competition model scored 0.81471)\n",
    "    * Ranked 36229 of 40849 submissions\n",
    "    * My submission was worse than 88.69% of submissions\n",
    "    * My submission was better than 11.31% of submissions\n",
    "    * AUC Percentile 0.498422350912"
   ]
  },
  {
   "cell_type": "code",
   "execution_count": null,
   "metadata": {},
   "outputs": [],
   "source": []
  }
 ],
 "metadata": {
  "kernelspec": {
   "display_name": "Python 3",
   "language": "python",
   "name": "python3"
  },
  "language_info": {
   "codemirror_mode": {
    "name": "ipython",
    "version": 3
   },
   "file_extension": ".py",
   "mimetype": "text/x-python",
   "name": "python",
   "nbconvert_exporter": "python",
   "pygments_lexer": "ipython3",
   "version": "3.6.2"
  }
 },
 "nbformat": 4,
 "nbformat_minor": 2
}
