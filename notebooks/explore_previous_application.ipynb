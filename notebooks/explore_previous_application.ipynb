{
 "cells": [
  {
   "cell_type": "markdown",
   "metadata": {},
   "source": [
    "### Explore previous_application Dataset\n",
    "https://www.kaggle.com/c/home-credit-default-risk\n",
    "\n",
    "Ad-hoc exploration of `previous_application.csv` dataset to find numeric and categorical variables"
   ]
  },
  {
   "cell_type": "code",
   "execution_count": 1,
   "metadata": {},
   "outputs": [],
   "source": [
    "%matplotlib inline\n",
    "%load_ext autoreload\n",
    "%autoreload 2"
   ]
  },
  {
   "cell_type": "code",
   "execution_count": 2,
   "metadata": {},
   "outputs": [],
   "source": [
    "import pandas as pd\n",
    "import numpy as np\n",
    "import os\n",
    "import shutil\n",
    "\n",
    "from sklearn.model_selection import train_test_split\n",
    "from sklearn.preprocessing import StandardScaler\n",
    "\n",
    "from preprocess import (do_data_cleaning, generate_encoders, add_onehot_col, add_label_col, fix_null_values)\n",
    "from preprocess_bureau import (add_numeric_stats_cols, )"
   ]
  },
  {
   "cell_type": "code",
   "execution_count": 3,
   "metadata": {},
   "outputs": [],
   "source": [
    "from IPython.display import display"
   ]
  },
  {
   "cell_type": "code",
   "execution_count": 4,
   "metadata": {},
   "outputs": [
    {
     "name": "stdout",
     "output_type": "stream",
     "text": [
      "shape (1670214, 37)\n",
      "columns Index(['SK_ID_PREV', 'SK_ID_CURR', 'NAME_CONTRACT_TYPE', 'AMT_ANNUITY',\n",
      "       'AMT_APPLICATION', 'AMT_CREDIT', 'AMT_DOWN_PAYMENT', 'AMT_GOODS_PRICE',\n",
      "       'WEEKDAY_APPR_PROCESS_START', 'HOUR_APPR_PROCESS_START',\n",
      "       'FLAG_LAST_APPL_PER_CONTRACT', 'NFLAG_LAST_APPL_IN_DAY',\n",
      "       'RATE_DOWN_PAYMENT', 'RATE_INTEREST_PRIMARY',\n",
      "       'RATE_INTEREST_PRIVILEGED', 'NAME_CASH_LOAN_PURPOSE',\n",
      "       'NAME_CONTRACT_STATUS', 'DAYS_DECISION', 'NAME_PAYMENT_TYPE',\n",
      "       'CODE_REJECT_REASON', 'NAME_TYPE_SUITE', 'NAME_CLIENT_TYPE',\n",
      "       'NAME_GOODS_CATEGORY', 'NAME_PORTFOLIO', 'NAME_PRODUCT_TYPE',\n",
      "       'CHANNEL_TYPE', 'SELLERPLACE_AREA', 'NAME_SELLER_INDUSTRY',\n",
      "       'CNT_PAYMENT', 'NAME_YIELD_GROUP', 'PRODUCT_COMBINATION',\n",
      "       'DAYS_FIRST_DRAWING', 'DAYS_FIRST_DUE', 'DAYS_LAST_DUE_1ST_VERSION',\n",
      "       'DAYS_LAST_DUE', 'DAYS_TERMINATION', 'NFLAG_INSURED_ON_APPROVAL'],\n",
      "      dtype='object')\n"
     ]
    }
   ],
   "source": [
    "df = pd.read_csv('./data/previous_application.csv')\n",
    "print(\"shape\",df.shape)\n",
    "print(\"columns\",df.columns)"
   ]
  },
  {
   "cell_type": "code",
   "execution_count": 5,
   "metadata": {},
   "outputs": [
    {
     "data": {
      "text/plain": [
       "SK_ID_PREV                       int64\n",
       "SK_ID_CURR                       int64\n",
       "NAME_CONTRACT_TYPE              object\n",
       "AMT_ANNUITY                    float64\n",
       "AMT_APPLICATION                float64\n",
       "AMT_CREDIT                     float64\n",
       "AMT_DOWN_PAYMENT               float64\n",
       "AMT_GOODS_PRICE                float64\n",
       "WEEKDAY_APPR_PROCESS_START      object\n",
       "HOUR_APPR_PROCESS_START          int64\n",
       "FLAG_LAST_APPL_PER_CONTRACT     object\n",
       "NFLAG_LAST_APPL_IN_DAY           int64\n",
       "RATE_DOWN_PAYMENT              float64\n",
       "RATE_INTEREST_PRIMARY          float64\n",
       "RATE_INTEREST_PRIVILEGED       float64\n",
       "NAME_CASH_LOAN_PURPOSE          object\n",
       "NAME_CONTRACT_STATUS            object\n",
       "DAYS_DECISION                    int64\n",
       "NAME_PAYMENT_TYPE               object\n",
       "CODE_REJECT_REASON              object\n",
       "NAME_TYPE_SUITE                 object\n",
       "NAME_CLIENT_TYPE                object\n",
       "NAME_GOODS_CATEGORY             object\n",
       "NAME_PORTFOLIO                  object\n",
       "NAME_PRODUCT_TYPE               object\n",
       "CHANNEL_TYPE                    object\n",
       "SELLERPLACE_AREA                 int64\n",
       "NAME_SELLER_INDUSTRY            object\n",
       "CNT_PAYMENT                    float64\n",
       "NAME_YIELD_GROUP                object\n",
       "PRODUCT_COMBINATION             object\n",
       "DAYS_FIRST_DRAWING             float64\n",
       "DAYS_FIRST_DUE                 float64\n",
       "DAYS_LAST_DUE_1ST_VERSION      float64\n",
       "DAYS_LAST_DUE                  float64\n",
       "DAYS_TERMINATION               float64\n",
       "NFLAG_INSURED_ON_APPROVAL      float64\n",
       "dtype: object"
      ]
     },
     "execution_count": 5,
     "metadata": {},
     "output_type": "execute_result"
    }
   ],
   "source": [
    "df.dtypes"
   ]
  },
  {
   "cell_type": "code",
   "execution_count": 6,
   "metadata": {},
   "outputs": [
    {
     "data": {
      "text/plain": [
       "{'NAME_CONTRACT_TYPE': 4,\n",
       " 'WEEKDAY_APPR_PROCESS_START': 7,\n",
       " 'FLAG_LAST_APPL_PER_CONTRACT': 2,\n",
       " 'NAME_CASH_LOAN_PURPOSE': 25,\n",
       " 'NAME_CONTRACT_STATUS': 4,\n",
       " 'NAME_PAYMENT_TYPE': 4,\n",
       " 'CODE_REJECT_REASON': 9,\n",
       " 'NAME_TYPE_SUITE': 7,\n",
       " 'NAME_CLIENT_TYPE': 4,\n",
       " 'NAME_GOODS_CATEGORY': 28,\n",
       " 'NAME_PORTFOLIO': 5,\n",
       " 'NAME_PRODUCT_TYPE': 3,\n",
       " 'CHANNEL_TYPE': 8,\n",
       " 'NAME_SELLER_INDUSTRY': 11,\n",
       " 'NAME_YIELD_GROUP': 5,\n",
       " 'PRODUCT_COMBINATION': 17}"
      ]
     },
     "execution_count": 6,
     "metadata": {},
     "output_type": "execute_result"
    }
   ],
   "source": [
    "df.select_dtypes('object').apply(pd.Series.nunique, axis=0).to_dict()"
   ]
  },
  {
   "cell_type": "code",
   "execution_count": 7,
   "metadata": {},
   "outputs": [
    {
     "data": {
      "text/plain": [
       "['NAME_CONTRACT_TYPE',\n",
       " 'WEEKDAY_APPR_PROCESS_START',\n",
       " 'FLAG_LAST_APPL_PER_CONTRACT',\n",
       " 'NAME_CASH_LOAN_PURPOSE',\n",
       " 'NAME_CONTRACT_STATUS',\n",
       " 'NAME_PAYMENT_TYPE',\n",
       " 'CODE_REJECT_REASON',\n",
       " 'NAME_TYPE_SUITE',\n",
       " 'NAME_CLIENT_TYPE',\n",
       " 'NAME_GOODS_CATEGORY',\n",
       " 'NAME_PORTFOLIO',\n",
       " 'NAME_PRODUCT_TYPE',\n",
       " 'CHANNEL_TYPE',\n",
       " 'NAME_SELLER_INDUSTRY',\n",
       " 'NAME_YIELD_GROUP',\n",
       " 'PRODUCT_COMBINATION']"
      ]
     },
     "execution_count": 7,
     "metadata": {},
     "output_type": "execute_result"
    }
   ],
   "source": [
    "label_cols = list(df.select_dtypes('object').apply(pd.Series.nunique, axis=0).to_dict().keys())\n",
    "label_cols"
   ]
  },
  {
   "cell_type": "code",
   "execution_count": 8,
   "metadata": {},
   "outputs": [
    {
     "data": {
      "text/plain": [
       "NAME_CONTRACT_TYPE              4\n",
       "WEEKDAY_APPR_PROCESS_START      7\n",
       "FLAG_LAST_APPL_PER_CONTRACT     2\n",
       "NAME_CASH_LOAN_PURPOSE         25\n",
       "NAME_CONTRACT_STATUS            4\n",
       "NAME_PAYMENT_TYPE               4\n",
       "CODE_REJECT_REASON              9\n",
       "NAME_TYPE_SUITE                 7\n",
       "NAME_CLIENT_TYPE                4\n",
       "NAME_GOODS_CATEGORY            28\n",
       "NAME_PORTFOLIO                  5\n",
       "NAME_PRODUCT_TYPE               3\n",
       "CHANNEL_TYPE                    8\n",
       "NAME_SELLER_INDUSTRY           11\n",
       "NAME_YIELD_GROUP                5\n",
       "PRODUCT_COMBINATION            17\n",
       "NFLAG_INSURED_ON_APPROVAL       2\n",
       "dtype: int64"
      ]
     },
     "execution_count": 8,
     "metadata": {},
     "output_type": "execute_result"
    }
   ],
   "source": [
    "label_cols = ['NAME_CONTRACT_TYPE',\n",
    " 'WEEKDAY_APPR_PROCESS_START',\n",
    " 'FLAG_LAST_APPL_PER_CONTRACT',\n",
    " 'NAME_CASH_LOAN_PURPOSE',\n",
    " 'NAME_CONTRACT_STATUS',\n",
    " 'NAME_PAYMENT_TYPE',\n",
    " 'CODE_REJECT_REASON',\n",
    " 'NAME_TYPE_SUITE',\n",
    " 'NAME_CLIENT_TYPE',\n",
    " 'NAME_GOODS_CATEGORY',\n",
    " 'NAME_PORTFOLIO',\n",
    " 'NAME_PRODUCT_TYPE',\n",
    " 'CHANNEL_TYPE',\n",
    " 'NAME_SELLER_INDUSTRY',\n",
    " 'NAME_YIELD_GROUP',\n",
    " 'PRODUCT_COMBINATION',\n",
    " 'NFLAG_INSURED_ON_APPROVAL']\n",
    "\n",
    "df[label_cols].apply(pd.Series.nunique, axis=0)"
   ]
  },
  {
   "cell_type": "code",
   "execution_count": 9,
   "metadata": {},
   "outputs": [
    {
     "name": "stdout",
     "output_type": "stream",
     "text": [
      "numerical_cols ['SK_ID_PREV', 'SK_ID_CURR', 'AMT_ANNUITY', 'AMT_APPLICATION', 'AMT_CREDIT', 'AMT_DOWN_PAYMENT', 'AMT_GOODS_PRICE', 'HOUR_APPR_PROCESS_START', 'NFLAG_LAST_APPL_IN_DAY', 'RATE_DOWN_PAYMENT', 'RATE_INTEREST_PRIMARY', 'RATE_INTEREST_PRIVILEGED', 'DAYS_DECISION', 'SELLERPLACE_AREA', 'CNT_PAYMENT', 'DAYS_FIRST_DRAWING', 'DAYS_FIRST_DUE', 'DAYS_LAST_DUE_1ST_VERSION', 'DAYS_LAST_DUE', 'DAYS_TERMINATION', 'NFLAG_INSURED_ON_APPROVAL']\n"
     ]
    }
   ],
   "source": [
    "# df.select_dtypes(['float64', 'int64']).agg([\"min\", \"max\", \"mean\", \"median\", \"nunique\"])\n",
    "numerical_cols = list(df.select_dtypes(['float64', 'int64']).apply(pd.Series.nunique, axis=0).to_dict().keys())\n",
    "print (\"numerical_cols\", numerical_cols)"
   ]
  },
  {
   "cell_type": "code",
   "execution_count": 10,
   "metadata": {},
   "outputs": [
    {
     "data": {
      "text/plain": [
       "array([0.        ,        nan, 0.10397129, ..., 0.10340195, 0.04430024,\n",
       "       0.10140051])"
      ]
     },
     "execution_count": 10,
     "metadata": {},
     "output_type": "execute_result"
    }
   ],
   "source": [
    "df['RATE_DOWN_PAYMENT'].unique()"
   ]
  },
  {
   "cell_type": "code",
   "execution_count": 11,
   "metadata": {},
   "outputs": [
    {
     "data": {
      "text/html": [
       "<div>\n",
       "<style scoped>\n",
       "    .dataframe tbody tr th:only-of-type {\n",
       "        vertical-align: middle;\n",
       "    }\n",
       "\n",
       "    .dataframe tbody tr th {\n",
       "        vertical-align: top;\n",
       "    }\n",
       "\n",
       "    .dataframe thead th {\n",
       "        text-align: right;\n",
       "    }\n",
       "</style>\n",
       "<table border=\"1\" class=\"dataframe\">\n",
       "  <thead>\n",
       "    <tr style=\"text-align: right;\">\n",
       "      <th></th>\n",
       "      <th>AMT_ANNUITY</th>\n",
       "      <th>AMT_APPLICATION</th>\n",
       "      <th>AMT_CREDIT</th>\n",
       "      <th>AMT_DOWN_PAYMENT</th>\n",
       "      <th>AMT_GOODS_PRICE</th>\n",
       "      <th>RATE_DOWN_PAYMENT</th>\n",
       "      <th>RATE_INTEREST_PRIMARY</th>\n",
       "      <th>RATE_INTEREST_PRIVILEGED</th>\n",
       "      <th>DAYS_DECISION</th>\n",
       "      <th>SELLERPLACE_AREA</th>\n",
       "      <th>CNT_PAYMENT</th>\n",
       "      <th>DAYS_FIRST_DRAWING</th>\n",
       "      <th>DAYS_FIRST_DUE</th>\n",
       "      <th>DAYS_LAST_DUE_1ST_VERSION</th>\n",
       "      <th>DAYS_LAST_DUE</th>\n",
       "      <th>DAYS_TERMINATION</th>\n",
       "    </tr>\n",
       "  </thead>\n",
       "  <tbody>\n",
       "    <tr>\n",
       "      <th>min</th>\n",
       "      <td>0.000000</td>\n",
       "      <td>0.000000e+00</td>\n",
       "      <td>0.000000e+00</td>\n",
       "      <td>-9.000000e-01</td>\n",
       "      <td>0.000000e+00</td>\n",
       "      <td>-0.000015</td>\n",
       "      <td>0.034781</td>\n",
       "      <td>0.373150</td>\n",
       "      <td>-2922.000000</td>\n",
       "      <td>-1.000000e+00</td>\n",
       "      <td>0.000000</td>\n",
       "      <td>-2922.000000</td>\n",
       "      <td>-2892.000000</td>\n",
       "      <td>-2801.000000</td>\n",
       "      <td>-2889.000000</td>\n",
       "      <td>-2874.000000</td>\n",
       "    </tr>\n",
       "    <tr>\n",
       "      <th>max</th>\n",
       "      <td>418058.145000</td>\n",
       "      <td>6.905160e+06</td>\n",
       "      <td>6.905160e+06</td>\n",
       "      <td>3.060045e+06</td>\n",
       "      <td>6.905160e+06</td>\n",
       "      <td>1.000000</td>\n",
       "      <td>1.000000</td>\n",
       "      <td>1.000000</td>\n",
       "      <td>-1.000000</td>\n",
       "      <td>4.000000e+06</td>\n",
       "      <td>84.000000</td>\n",
       "      <td>365243.000000</td>\n",
       "      <td>365243.000000</td>\n",
       "      <td>365243.000000</td>\n",
       "      <td>365243.000000</td>\n",
       "      <td>365243.000000</td>\n",
       "    </tr>\n",
       "    <tr>\n",
       "      <th>mean</th>\n",
       "      <td>15955.120659</td>\n",
       "      <td>1.752339e+05</td>\n",
       "      <td>1.961140e+05</td>\n",
       "      <td>6.697402e+03</td>\n",
       "      <td>2.278473e+05</td>\n",
       "      <td>0.079637</td>\n",
       "      <td>0.188357</td>\n",
       "      <td>0.773503</td>\n",
       "      <td>-880.679668</td>\n",
       "      <td>3.139511e+02</td>\n",
       "      <td>16.054082</td>\n",
       "      <td>342209.855039</td>\n",
       "      <td>13826.269337</td>\n",
       "      <td>33767.774054</td>\n",
       "      <td>76582.403064</td>\n",
       "      <td>81992.343838</td>\n",
       "    </tr>\n",
       "    <tr>\n",
       "      <th>median</th>\n",
       "      <td>11250.000000</td>\n",
       "      <td>7.104600e+04</td>\n",
       "      <td>8.054100e+04</td>\n",
       "      <td>1.638000e+03</td>\n",
       "      <td>1.123200e+05</td>\n",
       "      <td>0.051605</td>\n",
       "      <td>0.189122</td>\n",
       "      <td>0.835095</td>\n",
       "      <td>-581.000000</td>\n",
       "      <td>3.000000e+00</td>\n",
       "      <td>12.000000</td>\n",
       "      <td>365243.000000</td>\n",
       "      <td>-831.000000</td>\n",
       "      <td>-361.000000</td>\n",
       "      <td>-537.000000</td>\n",
       "      <td>-499.000000</td>\n",
       "    </tr>\n",
       "    <tr>\n",
       "      <th>nunique</th>\n",
       "      <td>357959.000000</td>\n",
       "      <td>9.388500e+04</td>\n",
       "      <td>8.680300e+04</td>\n",
       "      <td>2.927800e+04</td>\n",
       "      <td>9.388500e+04</td>\n",
       "      <td>207033.000000</td>\n",
       "      <td>148.000000</td>\n",
       "      <td>25.000000</td>\n",
       "      <td>2922.000000</td>\n",
       "      <td>2.097000e+03</td>\n",
       "      <td>49.000000</td>\n",
       "      <td>2838.000000</td>\n",
       "      <td>2892.000000</td>\n",
       "      <td>4605.000000</td>\n",
       "      <td>2873.000000</td>\n",
       "      <td>2830.000000</td>\n",
       "    </tr>\n",
       "  </tbody>\n",
       "</table>\n",
       "</div>"
      ],
      "text/plain": [
       "           AMT_ANNUITY  AMT_APPLICATION    AMT_CREDIT  AMT_DOWN_PAYMENT  \\\n",
       "min           0.000000     0.000000e+00  0.000000e+00     -9.000000e-01   \n",
       "max      418058.145000     6.905160e+06  6.905160e+06      3.060045e+06   \n",
       "mean      15955.120659     1.752339e+05  1.961140e+05      6.697402e+03   \n",
       "median    11250.000000     7.104600e+04  8.054100e+04      1.638000e+03   \n",
       "nunique  357959.000000     9.388500e+04  8.680300e+04      2.927800e+04   \n",
       "\n",
       "         AMT_GOODS_PRICE  RATE_DOWN_PAYMENT  RATE_INTEREST_PRIMARY  \\\n",
       "min         0.000000e+00          -0.000015               0.034781   \n",
       "max         6.905160e+06           1.000000               1.000000   \n",
       "mean        2.278473e+05           0.079637               0.188357   \n",
       "median      1.123200e+05           0.051605               0.189122   \n",
       "nunique     9.388500e+04      207033.000000             148.000000   \n",
       "\n",
       "         RATE_INTEREST_PRIVILEGED  DAYS_DECISION  SELLERPLACE_AREA  \\\n",
       "min                      0.373150   -2922.000000     -1.000000e+00   \n",
       "max                      1.000000      -1.000000      4.000000e+06   \n",
       "mean                     0.773503    -880.679668      3.139511e+02   \n",
       "median                   0.835095    -581.000000      3.000000e+00   \n",
       "nunique                 25.000000    2922.000000      2.097000e+03   \n",
       "\n",
       "         CNT_PAYMENT  DAYS_FIRST_DRAWING  DAYS_FIRST_DUE  \\\n",
       "min         0.000000        -2922.000000    -2892.000000   \n",
       "max        84.000000       365243.000000   365243.000000   \n",
       "mean       16.054082       342209.855039    13826.269337   \n",
       "median     12.000000       365243.000000     -831.000000   \n",
       "nunique    49.000000         2838.000000     2892.000000   \n",
       "\n",
       "         DAYS_LAST_DUE_1ST_VERSION  DAYS_LAST_DUE  DAYS_TERMINATION  \n",
       "min                   -2801.000000   -2889.000000      -2874.000000  \n",
       "max                  365243.000000  365243.000000     365243.000000  \n",
       "mean                  33767.774054   76582.403064      81992.343838  \n",
       "median                 -361.000000    -537.000000       -499.000000  \n",
       "nunique                4605.000000    2873.000000       2830.000000  "
      ]
     },
     "execution_count": 11,
     "metadata": {},
     "output_type": "execute_result"
    }
   ],
   "source": [
    "numerical_cols =['AMT_ANNUITY', 'AMT_APPLICATION', 'AMT_CREDIT', 'AMT_DOWN_PAYMENT', \n",
    "                 'AMT_GOODS_PRICE', \n",
    "                 # 'HOUR_APPR_PROCESS_START', \n",
    "                 #'NFLAG_LAST_APPL_IN_DAY', \n",
    "                 'RATE_DOWN_PAYMENT', 'RATE_INTEREST_PRIMARY', 'RATE_INTEREST_PRIVILEGED', \n",
    "                 'DAYS_DECISION', 'SELLERPLACE_AREA', 'CNT_PAYMENT', 'DAYS_FIRST_DRAWING', \n",
    "                 'DAYS_FIRST_DUE', 'DAYS_LAST_DUE_1ST_VERSION', 'DAYS_LAST_DUE', \n",
    "                 'DAYS_TERMINATION', \n",
    "                 # 'NFLAG_INSURED_ON_APPROVAL'\n",
    "                ]\n",
    "\n",
    "FEAT_CODE = \"PREV_APP\"\n",
    "rename_cols = {}\n",
    "for colname in numerical_cols:\n",
    "    rename_cols[colname] = \"{}_{}\".format(FEAT_CODE, colname)\n",
    "\n",
    "df[numerical_cols].agg([\"min\", \"max\", \"mean\", \"median\", \"nunique\"])"
   ]
  },
  {
   "cell_type": "code",
   "execution_count": 12,
   "metadata": {},
   "outputs": [
    {
     "data": {
      "text/plain": [
       "array([0.86733615,        nan, 0.83509514, 0.56871036, 0.84513742,\n",
       "       0.852537  , 0.71564482, 0.63794926, 0.82082452, 0.4244186 ,\n",
       "       0.83245243, 0.6448203 , 0.51374207, 0.54281184, 0.37315011,\n",
       "       0.80655391, 0.50211416, 0.63742072, 0.72515856, 0.78065539,\n",
       "       1.        , 0.54809725, 0.79069767, 0.48414376, 0.43657505,\n",
       "       0.85465116])"
      ]
     },
     "execution_count": 12,
     "metadata": {},
     "output_type": "execute_result"
    }
   ],
   "source": [
    "df[\"RATE_INTEREST_PRIVILEGED\"].unique()"
   ]
  },
  {
   "cell_type": "code",
   "execution_count": null,
   "metadata": {},
   "outputs": [],
   "source": []
  }
 ],
 "metadata": {
  "kernelspec": {
   "display_name": "Python 3",
   "language": "python",
   "name": "python3"
  },
  "language_info": {
   "codemirror_mode": {
    "name": "ipython",
    "version": 3
   },
   "file_extension": ".py",
   "mimetype": "text/x-python",
   "name": "python",
   "nbconvert_exporter": "python",
   "pygments_lexer": "ipython3",
   "version": "3.6.2"
  }
 },
 "nbformat": 4,
 "nbformat_minor": 2
}
